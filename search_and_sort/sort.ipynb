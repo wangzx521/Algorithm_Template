{
 "cells": [
  {
   "cell_type": "markdown",
   "metadata": {},
   "source": [
    "# 排序"
   ]
  },
  {
   "cell_type": "markdown",
   "metadata": {},
   "source": [
    "##### 1.冒泡排序"
   ]
  },
  {
   "cell_type": "code",
   "execution_count": null,
   "metadata": {},
   "outputs": [],
   "source": [
    "def bubble_sort(a_list):\n",
    "    for i in range(len(a_list) - 1 , 0 , -1):\n",
    "        for j in range(i):\n",
    "            if a_list[j] > a_list[j+1]:\n",
    "                a_list[j] , a_list[j+1] = a_list[j+1] , a_list[j]\n",
    "    \n"
   ]
  },
  {
   "cell_type": "markdown",
   "metadata": {},
   "source": [
    "##### 2.短冒泡排序"
   ]
  },
  {
   "cell_type": "code",
   "execution_count": null,
   "metadata": {},
   "outputs": [],
   "source": [
    "def bubble_short_sort(a_list):\n",
    "    exchange = False\n",
    "    for i in range(len(a_list) - 1 , 0 , -1):\n",
    "        for j in range(i):\n",
    "            if a_list[j] > a_list[j+1]:\n",
    "                a_list[j] , a_list[j+1] = a_list[j+1] , a_list[j]\n",
    "                exchange = True\n",
    "        if not exchange:\n",
    "            break"
   ]
  },
  {
   "cell_type": "markdown",
   "metadata": {},
   "source": [
    "##### 3.选择排序"
   ]
  },
  {
   "cell_type": "code",
   "execution_count": null,
   "metadata": {},
   "outputs": [],
   "source": [
    "def selection_sort(a_list):\n",
    "    for i, item in enumerate(a_list):\n",
    "        min_idx = len(a_list) - 1\n",
    "        for j in range(i, len(a_list) - 1):\n",
    "            if a_list[j] < a_list[min_idx]:\n",
    "                min_idx = j\n",
    "        a_list[min_idx], a_list[i] = a_list[i], a_list[min_idx]"
   ]
  },
  {
   "cell_type": "markdown",
   "metadata": {},
   "source": [
    "##### 4.插入排序"
   ]
  },
  {
   "cell_type": "code",
   "execution_count": 3,
   "metadata": {},
   "outputs": [],
   "source": [
    "\n",
    "def insertion_sort(a_list):\n",
    "    for i in range(1 , len(a_list)):\n",
    "        cur_idx = i\n",
    "        cur_val = a_list[cur_idx]\n",
    "        while cur_idx > 0 and a_list[cur_idx - 1] > cur_val:\n",
    "            a_list[cur_idx] = a_list[cur_idx - 1]\n",
    "            cur_idx -= 1\n",
    "        \n",
    "        a_list[cur_idx] = cur_val"
   ]
  },
  {
   "cell_type": "markdown",
   "metadata": {},
   "source": [
    "##### 6.希尔排序"
   ]
  },
  {
   "cell_type": "code",
   "execution_count": null,
   "metadata": {},
   "outputs": [],
   "source": [
    "def shell_sort(a_list):\n",
    "    sublist_count = len(a_list) // 2\n",
    "    while sublist_count > 0:\n",
    "        for pos_start in range(sublist_count):\n",
    "            gap_insertion_sort(a_list, pos_start, sublist_count)\n",
    "        sublist_count = sublist_count // 2\n",
    "\n",
    "def gap_insertion_sort(a_list, start, gap):\n",
    "    for i in range(start + gap, len(a_list), gap):\n",
    "        cur_val = a_list[i]\n",
    "        cur_pos = i\n",
    "        while(cur_pos > 0 and a_list[cur_pos - gap] > cur_val):\n",
    "            a_list[cur_pos] ,a_list[cur_pos - gap] = a_list[cur_pos - gap] , a_list[cur_pos]\n",
    "            cur_pos -= gap\n",
    "        a_list[cur_pos] = cur_val\n",
    "a = []\n",
    "import random\n",
    "for i in range(10):\n",
    "    a.append(random.randint(0, 100))      \n",
    "shell_sort(a)\n",
    "print(a)       "
   ]
  },
  {
   "cell_type": "markdown",
   "metadata": {},
   "source": [
    "##### 7.归并排序"
   ]
  },
  {
   "cell_type": "code",
   "execution_count": null,
   "metadata": {},
   "outputs": [],
   "source": [
    "def merge_sort(a_list):\n",
    "    print(\"Splitting\", a_list)\n",
    "    if len(a_list) > 1:\n",
    "        mid = len(a_list) // 2\n",
    "        left_half = a_list[:mid] \n",
    "        right_half = a_list[mid:]\n",
    "        merge_sort(left_half)\n",
    "        merge_sort(right_half)\n",
    "        i, j, k = 0, 0, 0\n",
    "        while i < len(left_half) and j < len(right_half):\n",
    "            if left_half[i] <= right_half[j]:\n",
    "                a_list[k] = left_half[i]\n",
    "                i += 1\n",
    "            else:\n",
    "                a_list[k] = right_half[j]\n",
    "                j += 1\n",
    "            k += 1\n",
    "        while i < len(left_half):\n",
    "            a_list[k] = left_half[i]\n",
    "            i += 1\n",
    "            k += 1\n",
    "        while j < len(right_half):\n",
    "            a_list[k] = right_half[j]\n",
    "            j += 1\n",
    "            k += 1\n",
    "    print(\"Merging\", a_list)\n",
    "print(merge_sort(a))\n",
    "    "
   ]
  },
  {
   "cell_type": "code",
   "execution_count": null,
   "metadata": {},
   "outputs": [],
   "source": [
    "def merge_sort_no_slice(a_list):\n",
    "    \"\"\"\n",
    "    Merge Sort without slicing, using a single allocated buffer for merging.\n",
    "    \"\"\"\n",
    "    buffer = [0] * len(a_list)\n",
    "    start = 0\n",
    "    end = len(a_list) - 1\n",
    "    def merge_sort_no_slice_with_buffer(a_list, buffer, start, end):\n",
    "            \n",
    "            if start < end:\n",
    "                mid = (start + end) // 2\n",
    "\n",
    "                # Recursive sort on both halves\n",
    "                merge_sort_no_slice_with_buffer(a_list, buffer, start, mid)\n",
    "                merge_sort_no_slice_with_buffer(a_list, buffer, mid + 1, end)\n",
    "\n",
    "                # Merge the two halves using the buffer\n",
    "                i, j, k = start, mid + 1, start\n",
    "\n",
    "                while i <= mid and j <= end:\n",
    "                    if a_list[i] <= a_list[j]:\n",
    "                        buffer[k] = a_list[i]\n",
    "                        i += 1\n",
    "                    else:\n",
    "                        buffer[k] = a_list[j]\n",
    "                        j += 1\n",
    "                    k += 1\n",
    "\n",
    "                \n",
    "                while i <= mid:\n",
    "                    buffer[k] = a_list[i]\n",
    "                    i += 1\n",
    "                    k += 1\n",
    "\n",
    "                \n",
    "                while j <= end:\n",
    "                    buffer[k] = a_list[j]\n",
    "                    j += 1\n",
    "                    k += 1\n",
    "\n",
    "                \n",
    "                for i in range(start, end + 1):\n",
    "                    a_list[i] = buffer[i]\n",
    "    merge_sort_no_slice_with_buffer(a_list, buffer, start, end)\n",
    "         \n"
   ]
  },
  {
   "cell_type": "markdown",
   "metadata": {},
   "source": [
    "##### 8.快速排序"
   ]
  },
  {
   "cell_type": "code",
   "execution_count": null,
   "metadata": {},
   "outputs": [
    {
     "name": "stdout",
     "output_type": "stream",
     "text": [
      "[2, 3, 9, 12, 29, 32, 33, 44, 88, 91, 223]\n"
     ]
    }
   ],
   "source": [
    "def quick_sort(a_list):\n",
    "    def quick_sort_helper(a_list, first, last):\n",
    "        if first < last:\n",
    "            pivot_val = a_list[first]\n",
    "            left_mark = first + 1\n",
    "            right_mark = last\n",
    "            while True:\n",
    "                while left_mark <= right_mark and a_list[left_mark] <= pivot_val:\n",
    "                    left_mark += 1\n",
    "                while right_mark >= left_mark and a_list[right_mark] >= pivot_val:\n",
    "                    right_mark -=1\n",
    "                if left_mark > right_mark:\n",
    "                    break\n",
    "                else:\n",
    "                    a_list[left_mark] , a_list[right_mark] = a_list[right_mark], a_list[left_mark]\n",
    "            a_list[right_mark], a_list[first] = a_list[first], a_list[right_mark]\n",
    "            quick_sort_helper(a_list, first, right_mark - 1)\n",
    "            quick_sort_helper(a_list, left_mark, last)\n",
    "    quick_sort_helper(a_list, 0, len(a_list) - 1)\n",
    "\n",
    "a = [223, 44, 3, 2, 9, 12, 29, 33, 88,32, 91]\n",
    "quick_sort(a)\n",
    "print(a)\n"
   ]
  },
  {
   "cell_type": "code",
   "execution_count": null,
   "metadata": {},
   "outputs": [],
   "source": [
    "def quick_sort(a_list):\n",
    "    def quick_sort_helper(a_list, first, last):\n",
    "        if first < last:\n",
    "            mid = (first + last) // 2\n",
    "            temp_dict = {first : a_list[first] ,mid : a_list[mid], last : a_list[last]}\n",
    "            temp_list = sorted(temp_dict.items(), key = lambda x : x[1])\n",
    "            pivot_val = temp_list[1]\n",
    "            left_mark = first + 1\n",
    "            right_mark = last \n",
    "            while True:\n",
    "                while left_mark <= right_mark and a_list[left_mark] <= pivot_val:\n",
    "                    left_mark += 1\n",
    "                while right_mark >= left_mark and a_list[right_mark] >= pivot_val:\n",
    "                    right_mark -=1\n",
    "                if left_mark > right_mark:\n",
    "                    break\n",
    "                else:\n",
    "                    a_list[left_mark] , a_list[right_mark] = a_list[right_mark], a_list[left_mark]\n",
    "            a_list[right_mark], a_list[first] = a_list[first], a_list[right_mark]\n",
    "            quick_sort_helper(a_list, first, right_mark - 1)\n",
    "            quick_sort_helper(a_list, left_mark, last)\n",
    "    quick_sort_helper(a_list, 0, len(a_list) - 1)"
   ]
  }
 ],
 "metadata": {
  "kernelspec": {
   "display_name": "base",
   "language": "python",
   "name": "python3"
  },
  "language_info": {
   "codemirror_mode": {
    "name": "ipython",
    "version": 3
   },
   "file_extension": ".py",
   "mimetype": "text/x-python",
   "name": "python",
   "nbconvert_exporter": "python",
   "pygments_lexer": "ipython3",
   "version": "3.12.7"
  }
 },
 "nbformat": 4,
 "nbformat_minor": 2
}
