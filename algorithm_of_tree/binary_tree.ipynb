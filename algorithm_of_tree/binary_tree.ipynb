{
 "cells": [
  {
   "cell_type": "markdown",
   "metadata": {},
   "source": [
    "1. 以列表之列表构建二叉树"
   ]
  },
  {
   "cell_type": "code",
   "execution_count": 29,
   "metadata": {},
   "outputs": [],
   "source": [
    "def make_binary_tree(root):\n",
    "    return [root, [], []]\n",
    "\n",
    "# 插入左子树\n",
    "def insert_left(root, new_child):\n",
    "    old_child = root.pop(1)\n",
    "    if len(old_child) > 1:\n",
    "        root.insert(1, [new_child, old_child, []])\n",
    "    else:\n",
    "        root.insert(1, [new_child, [], []])\n",
    "    return root\n",
    "def insert_right(root, new_child):\n",
    "    old_child = root.pop(2)\n",
    "    if len(old_child) > 1:\n",
    "        root.insert(2, [new_child, old_child, []])\n",
    "    else:\n",
    "        root.insert(2, [new_child, [], []])\n",
    "def get_root_val(root):\n",
    "    return root[0]\n",
    "\n",
    "def set_root_val(root, new_val):\n",
    "    root[0] = new_val\n",
    "\n",
    "def get_left_child(root):\n",
    "    return root[1]\n",
    "\n",
    "def get_right_child(root):\n",
    "    return root[2]\n",
    "\n"
   ]
  },
  {
   "cell_type": "code",
   "execution_count": 30,
   "metadata": {},
   "outputs": [
    {
     "name": "stdout",
     "output_type": "stream",
     "text": [
      "[3, [4, [], []], []]\n",
      "[3, [5, [4, [], []], []], []]\n",
      "[3, [5, [4, [], []], []], [6, [], []]]\n",
      "[3, [5, [4, [], []], []], [7, [6, [], []], []]]\n"
     ]
    },
    {
     "data": {
      "text/plain": [
       "[3, [9, [4, [], []], []], [7, [6, [], []], []]]"
      ]
     },
     "execution_count": 30,
     "metadata": {},
     "output_type": "execute_result"
    }
   ],
   "source": [
    "a_tree = make_binary_tree(3)\n",
    "insert_left(a_tree, 4)\n",
    "print(a_tree)\n",
    "insert_left(a_tree, 5)\n",
    "print(a_tree)\n",
    "insert_right(a_tree, 6)\n",
    "print(a_tree)\n",
    "insert_right(a_tree, 7)\n",
    "print(a_tree)\n",
    "left_child = get_left_child(a_tree)\n",
    "left_child\n",
    "set_root_val(left_child, 9)\n",
    "a_tree"
   ]
  },
  {
   "cell_type": "code",
   "execution_count": 44,
   "metadata": {},
   "outputs": [],
   "source": [
    "class BinaryTree:\n",
    "    def __init__(self, root_obj):\n",
    "        self.key = root_obj\n",
    "        self.left_child = None\n",
    "        self.right_child = None\n",
    "    \n",
    "    def insert_left(self, new_node):\n",
    "        if self.left_child == None:\n",
    "            self.left_child = BinaryTree(new_node)\n",
    "        else:\n",
    "            new_child = BinaryTree(self, new_node)\n",
    "            new_child.left_child = self.left_child\n",
    "            self.left_child = new_child\n",
    "        \n",
    "\n",
    "    def insert_right(self, new_node):\n",
    "        if self.right_child == None:\n",
    "            self.right_child = BinaryTree(new_node)\n",
    "        else:\n",
    "            new_child = BinaryTree(new_node)\n",
    "            new_child.right_child = self.right_child\n",
    "            self.right_child = new_child\n",
    "            \n",
    "    def get_root_val(self):\n",
    "        return self.key\n",
    "    \n",
    "    def set_root_val(self, new_obj):\n",
    "        self.key = new_obj\n",
    "\n",
    "    def get_left_child(self):\n",
    "        return self.left_child \n",
    "    \n",
    "\n",
    "    def get_right_child(self):\n",
    "        return self.right_child\n",
    "    \n"
   ]
  },
  {
   "cell_type": "code",
   "execution_count": 32,
   "metadata": {},
   "outputs": [
    {
     "name": "stdout",
     "output_type": "stream",
     "text": [
      "b\n",
      "c\n"
     ]
    }
   ],
   "source": [
    "a_tree = BinaryTree(3)\n",
    "a_tree.insert_left('b')\n",
    "print(a_tree.get_left_child().get_root_val())\n",
    "a_tree.insert_right(\"c\")\n",
    "print(a_tree.get_right_child().get_root_val())"
   ]
  },
  {
   "cell_type": "code",
   "execution_count": 33,
   "metadata": {},
   "outputs": [],
   "source": [
    "from pythonds3.basic import Stack\n",
    "from pythonds3.trees import BinaryTree\n",
    "\n",
    "\n",
    "def build_parse_tree(fp_esp):\n",
    "    '''\n",
    "    解析树构建器\n",
    "    '''\n",
    "    fp_list = fp_esp.split()\n",
    "    p_stack = Stack()\n",
    "    exp_tree = BinaryTree(\"\")\n",
    "    p_stack.push(exp_tree)\n",
    "    current_tree = exp_tree\n",
    "\n",
    "    for i in fp_list:\n",
    "        if i == '(':\n",
    "            current_tree.insert_left('')\n",
    "            p_stack.push(current_tree)\n",
    "            current_tree = current_tree.left_child\n",
    "        elif i in ['+' , '-', '*', '/']:\n",
    "            current_tree.root = i\n",
    "            current_tree.insert_right('')\n",
    "            p_stack.push(current_tree)\n",
    "            current_tree = current_tree.right_child\n",
    "        elif i.isdigit():\n",
    "            current_tree.root = int(i)\n",
    "            current_tree = p_stack.pop()\n",
    "        elif i == ')':\n",
    "            \n",
    "            current_tree = p_stack.pop()\n",
    "        else:\n",
    "            raise ValueError(f\"Unknown word {i}\")\n",
    "        \n",
    "    return exp_tree\n"
   ]
  },
  {
   "cell_type": "code",
   "execution_count": 34,
   "metadata": {},
   "outputs": [],
   "source": [
    "import operator\n",
    "def evaluate(parse_tree):\n",
    "    '''\n",
    "    计算解析树\n",
    "    '''\n",
    "    operators = {\n",
    "        \"+\" : operator.add,\n",
    "        \"-\" : operator.sub,\n",
    "        \"*\" : operator.mul,\n",
    "        \"/\" : operator.truediv\n",
    "    }\n",
    "    left_child = parse_tree.left_child\n",
    "    right_child = parse_tree.right_child\n",
    "    if left_child and right_child:\n",
    "        fn = operators[parse_tree.root]\n",
    "        return fn(evaluate(left_child), evaluate(right_child))\n",
    "    else:\n",
    "        return parse_tree.root"
   ]
  },
  {
   "cell_type": "code",
   "execution_count": 35,
   "metadata": {},
   "outputs": [],
   "source": [
    "def pre_order(tree):\n",
    "    if tree:\n",
    "        print(tree.root)\n",
    "        pre_order(tree.left_child)\n",
    "        pre_order(tree.right_child)"
   ]
  },
  {
   "cell_type": "code",
   "execution_count": 36,
   "metadata": {},
   "outputs": [],
   "source": [
    "def post_order(tree):\n",
    "    if tree:\n",
    "        post_order(tree.left_child)\n",
    "        post_order(tree.right_child)\n",
    "        print(tree.root)"
   ]
  },
  {
   "cell_type": "code",
   "execution_count": 41,
   "metadata": {},
   "outputs": [
    {
     "name": "stdout",
     "output_type": "stream",
     "text": [
      "\n",
      "2.8000000000000003\n"
     ]
    }
   ],
   "source": [
    "#后序求值函数\n",
    "def post_order_eval(tree):\n",
    "    operators =  {\n",
    "        \"+\" : operator.add,\n",
    "        \"-\" : operator.sub,\n",
    "        \"*\" : operator.mul,\n",
    "        \"/\" : operator.truediv\n",
    "    }\n",
    "    result1 = None\n",
    "    result2 = None\n",
    "    if tree:\n",
    "        result1 = post_order_eval(tree.left_child)\n",
    "        result2 = post_order_eval(tree.right_child)\n",
    "        if result1 and result2:\n",
    "            return operator[tree.key](result1, result2)\n",
    "        return tree.key\n",
    "\n",
    "a_tree = build_parse_tree(\"( ( 3 + 4 ) * ( 2 / 5 ) )\")\n",
    "print(post_order_eval(a_tree))\n",
    "print(evaluate(a_tree))\n"
   ]
  },
  {
   "cell_type": "code",
   "execution_count": null,
   "metadata": {},
   "outputs": [],
   "source": [
    "def inorder(tree):\n",
    "    if tree:\n",
    "        inorder(tree.left_child)\n",
    "        print(tree.key)\n",
    "        inorder(tree.right_child)"
   ]
  },
  {
   "cell_type": "code",
   "execution_count": 46,
   "metadata": {},
   "outputs": [
    {
     "name": "stdout",
     "output_type": "stream",
     "text": [
      "(((4+(5*(7\n"
     ]
    }
   ],
   "source": [
    "def print_exp(tree):\n",
    "    result = \"\"\n",
    "    if tree:\n",
    "        result = \"(\" + print_exp(tree.left_child)\n",
    "        result = result + str(tree.key)\n",
    "        result = (result + print_exp(tree.right_child))\n",
    "    return result\n",
    "\n",
    "\n",
    "x = BinaryTree(\"*\")\n",
    "x.insert_left(\"+\")\n",
    "l = x.left_child\n",
    "l.insert_left(4)\n",
    "l.insert_right(5)\n",
    "x.insert_right(7)\n",
    "print(print_exp(x))"
   ]
  }
 ],
 "metadata": {
  "kernelspec": {
   "display_name": "base",
   "language": "python",
   "name": "python3"
  },
  "language_info": {
   "codemirror_mode": {
    "name": "ipython",
    "version": 3
   },
   "file_extension": ".py",
   "mimetype": "text/x-python",
   "name": "python",
   "nbconvert_exporter": "python",
   "pygments_lexer": "ipython3",
   "version": "3.12.7"
  }
 },
 "nbformat": 4,
 "nbformat_minor": 2
}
